{
 "cells": [
  {
   "cell_type": "markdown",
   "metadata": {},
   "source": [
    "# Курсовая работа\n",
    "## Выполнил студент группы БФИ2204 Лапин Иван Денисович"
   ]
  },
  {
   "cell_type": "markdown",
   "metadata": {},
   "source": [
    "# Библиотеки"
   ]
  },
  {
   "cell_type": "code",
   "execution_count": 2,
   "metadata": {},
   "outputs": [],
   "source": [
    "import csv\n",
    "import random\n",
    "from datetime import datetime, timedelta\n",
    "from matplotlib.figure import Figure \n",
    "from matplotlib.backends.backend_tkagg import (FigureCanvasTkAgg, NavigationToolbar2Tk) \n",
    "import matplotlib.pyplot as plt\n"
   ]
  },
  {
   "cell_type": "markdown",
   "metadata": {},
   "source": [
    "# Генерация данных для таблицы csv формата"
   ]
  },
  {
   "cell_type": "code",
   "execution_count": 3,
   "metadata": {},
   "outputs": [],
   "source": [
    "# Генерация данных для таблицы csv формата\n",
    "def generate_date():\n",
    "    start_date = datetime(2010, 1, 1)\n",
    "    end_date = datetime(2024, 5, 20)\n",
    "    random_date = start_date + timedelta(days=random.randint(0, (end_date - start_date).days))\n",
    "    return random_date.strftime('%Y-%m-%d')\n",
    "\n",
    "products = [\n",
    "    ('Наушники', 'Техника', random.randint(1, 200), random.randint(8500, 14000)),\n",
    "    ('Ноутбук', 'Техника', random.randint(1, 65), random.randint(40000, 82000)),\n",
    "    ('Телефон', 'Техника', random.randint(1, 100), random.randint(17000, 75000)),\n",
    "    ('Футболка', 'Одежда', random.randint(1, 2000), random.randint(1200, 2100)),\n",
    "    ('Платье', 'Одежда', random.randint(1, 1500), random.randint(2500, 4200)),\n",
    "    ('Куртка', 'Одежда', random.randint(1, 750), random.randint(5400, 8700)),\n",
    "    ('Кроссовки', 'Обувь', random.randint(1, 1000), random.randint(4500, 19000)),\n",
    "    ('Тапки', 'Обувь', random.randint(1, 850), random.randint(200, 1500)),\n",
    "    ('Сандали', 'Обувь', random.randint(1, 800), random.randint(600, 2000)),\n",
    "    ('Помада', 'Косметика', random.randint(1, 1700), random.randint(300, 1200)),\n",
    "    ('Тушь', 'Косметика', random.randint(1, 1900), random.randint(500, 1800)),\n",
    "    ('Консилер', 'Косметика', random.randint(1, 1000), random.randint(650, 1250)),\n",
    "    ('Сумка', 'Аксессуары', random.randint(1, 500), random.randint(3500, 8000)),\n",
    "    ('Рюкзак', 'Аксессуары', random.randint(1, 600), random.randint(1800, 3000)),\n",
    "    ('Чемодан', 'Аксессуары', random.randint(1, 250), random.randint(6000, 9500))\n",
    "]\n",
    "\n",
    "with open('Store.csv', 'w',  newline='') as file:\n",
    "    writer = csv.writer(file, delimiter='|')\n",
    "\n",
    "    # Записываем заголовок\n",
    "    writer.writerow(['Номер заказа', 'Дата заказа', 'Название товара', 'Категория товара', 'Количество продаж', 'Цена за единицу', 'Общая стоимость'])\n",
    "\n",
    "    all_cash = 0\n",
    "    \n",
    "    # Записываем данные\n",
    "    for i in range(1, 20):\n",
    "        random_date = generate_date()\n",
    "        \n",
    "        random_product = random.choice(products)\n",
    "        product_name = random_product[0]\n",
    "        category = random_product[1]\n",
    "        amount = random_product[2]\n",
    "        price_product = random_product[3]\n",
    "        \n",
    "        all_cash += amount*price_product\n",
    "        \n",
    "        writer.writerow([random.randint(1, 100000000), random_date, product_name, category, amount, price_product, amount*price_product])\n",
    "        "
   ]
  },
  {
   "cell_type": "markdown",
   "metadata": {},
   "source": [
    "# Рассчёт прибыли по товарам и категориям"
   ]
  },
  {
   "cell_type": "code",
   "execution_count": 4,
   "metadata": {},
   "outputs": [],
   "source": [
    "# Рассчёт прибыли по товарам и категориям\n",
    "tech_cash = int(products[0][2]) * int(products[0][3]) + int(products[1][2]) * int(products[1][3]) + int(products[2][2]) * int(products[2][3])\n",
    "things_cash = int(products[3][2]) * int(products[3][3]) + int(products[4][2]) * int(products[4][3]) + int(products[5][2]) * int(products[5][3])\n",
    "shoes_cash = int(products[6][2]) * int(products[6][3]) + int(products[7][2]) * int(products[7][3]) + int(products[8][2]) * int(products[8][3])\n",
    "makeup_cash = int(products[9][2]) * int(products[9][3]) + int(products[10][2]) * int(products[10][3]) + int(products[11][2]) * int(products[11][3])\n",
    "accessories_cash = int(products[12][2]) * int(products[12][3]) + int(products[13][2]) * int(products[13][3]) + int(products[14][2]) * int(products[14][3])\n",
    "\n",
    "earphones_cash = int(products[0][2]) * int(products[0][3])\n",
    "laptop_cash = int(products[1][2]) * int(products[1][3])\n",
    "phone_cash = int(products[2][2]) * int(products[2][3])\n",
    "tshirt_cash = int(products[3][2]) * int(products[3][3])\n",
    "dress_cash = int(products[4][2]) * int(products[4][3])\n",
    "jacket_cash = int(products[5][2]) * int(products[5][3])\n",
    "trainers_cash = int(products[6][2]) * int(products[6][3])\n",
    "sleepers_cash = int(products[7][2]) * int(products[7][3])\n",
    "sandals_cash = int(products[8][2]) * int(products[8][3])\n",
    "lipstick_cash = int(products[9][2]) * int(products[9][3])\n",
    "mascara_cash = int(products[10][2]) * int(products[10][3])\n",
    "consealer_cash = int(products[11][2]) * int(products[12][3])\n",
    "bag_cash = int(products[12][2]) * int(products[12][3])\n",
    "backpack_cash = int(products[13][2]) * int(products[13][3])\n",
    "suitcase_cash = int(products[14][2]) * int(products[14][3])"
   ]
  },
  {
   "cell_type": "markdown",
   "metadata": {},
   "source": [
    "# Вывод рассчётов по заданиям"
   ]
  },
  {
   "cell_type": "code",
   "execution_count": 5,
   "metadata": {},
   "outputs": [
    {
     "name": "stdout",
     "output_type": "stream",
     "text": [
      "Общая выручка магазина:  15892053  рублей\n",
      "Товар, который был продан наибольшее количество раз:  Футболка  -  814  штук\n",
      "Товар, который принёс наибольшую выручку:  Платье  -  2005236  рублей\n"
     ]
    }
   ],
   "source": [
    "# Вывод рассчётов по заданиям\n",
    "with open('Store.csv', newline='') as file:\n",
    "    reader = csv.reader(file, delimiter='|')\n",
    "    next(reader)\n",
    "    amount_name= \"\"\n",
    "    max_amount = 0\n",
    "    cash_name = \"\"\n",
    "    max_cash = 0\n",
    "    for row in reader:\n",
    "        if int(row[4]) > max_amount:\n",
    "            amount_name= row[2]\n",
    "            max_amount = int(row[4])\n",
    "        if int(row[6]) > max_cash:\n",
    "            cash_name = row[2]\n",
    "            max_cash = int(row[6])\n",
    "\n",
    "print(\"Общая выручка магазина: \", all_cash, \" рублей\")\n",
    "print(\"Товар, который был продан наибольшее количество раз: \", amount_name, \" - \", max_amount ,\" штук\")\n",
    "print('Товар, который принёс наибольшую выручку: ', cash_name, \" - \", max_cash, \" рублей\")"
   ]
  },
  {
   "cell_type": "markdown",
   "metadata": {},
   "source": [
    "#  Диаграммы"
   ]
  },
  {
   "cell_type": "code",
   "execution_count": 6,
   "metadata": {},
   "outputs": [
    {
     "data": {
      "image/png": "[encoded data removed]",
      "text/plain": [
       "<Figure size 640x480 with 1 Axes>"
      ]
     },
     "metadata": {},
     "output_type": "display_data"
    }
   ],
   "source": [
    "#  Диаграммы\n",
    "x = ['Наушники', 'Ноутбук', 'Телефон', 'Футболка', 'Платье', 'Куртка', 'Кроссовки', 'Тапки', 'Сандали', 'Помада', 'Тушь', 'Консилер', 'Сумка', 'Рюкзак', 'Чемодан']\n",
    "y = [earphones_cash, laptop_cash, phone_cash, tshirt_cash, dress_cash, jacket_cash, trainers_cash, sleepers_cash, sandals_cash, lipstick_cash, mascara_cash, consealer_cash, bag_cash, backpack_cash, suitcase_cash]\n",
    "\n",
    "z = ['Техника', 'Одежда', 'Обувь', 'Косметика', 'Аксессуары']\n",
    "d = [tech_cash, things_cash, shoes_cash, makeup_cash, accessories_cash]\n",
    "\n",
    "a = ['Наушники', 'Ноутбук', 'Телефон', 'Футболка', 'Платье', 'Куртка', 'Кроссовки', 'Тапки', 'Сандали', 'Помада', 'Тушь', 'Консилер', 'Сумка', 'Рюкзак', 'Чемодан']\n",
    "b = [int(products[0][2]), int(products[1][2]), int(products[2][2]), int(products[3][2]), int(products[4][2]), int(products[5][2]), int(products[6][2]), int(products[7][2]), int(products[8][2]), int(products[9][2]), int(products[10][2]), int(products[11][2]), int(products[12][2]), int(products[13][2]), int(products[14][2])]\n",
    "\n",
    "flag = False\n",
    "while flag == False:\n",
    "    graph = input(\"Если хотите увидеть столбчатую диаграмму по долям прибыли товаров - введите: 1.\\nЕсли хотите увидеть столбчатую диаграмму по долям прибыли категорий - введите: 2.\\nЕсли хотите увидеть столбчатую диаграмму по количеству проданных товаров - введите: 3 \\nЕсли хотите увидеть диаграмму по долям прибыли товаров - введите: 4\\n\")\n",
    "    if graph == \"1\" or graph == \"2\" or graph == \"3\" or graph == \"4\":\n",
    "        flag = True\n",
    "if graph == \"1\":\n",
    "    # Построение столбчатой диаграммы\n",
    "    plt.bar(x, y)\n",
    "\n",
    "    # Отображение диаграммы\n",
    "    plt.show()\n",
    "elif graph == \"2\":\n",
    "    # Построение столбчатой диаграммы\n",
    "    plt.bar(z, d)\n",
    "\n",
    "    # Отображение диаграммы\n",
    "    plt.show()\n",
    "elif graph == \"3\":\n",
    "    # Построение столбчатой диаграммы\n",
    "    plt.bar(a, b)\n",
    "\n",
    "    # Отображение диаграммы\n",
    "    plt.show()#Доля каждого товара в общей выручке\n",
    "elif graph == \"4\":\n",
    "    labels = ['Наушники', 'Ноутбук', 'Телефон', 'Футболка', 'Платье', 'Куртка', 'Кроссовки', 'Тапки', 'Сандали', 'Помада', 'Тушь', 'Консилер', 'Сумка', 'Рюкзак', 'Чемодан']\n",
    "    sizes = [(earphones_cash/all_cash)*100, (laptop_cash/all_cash)*100, (phone_cash/all_cash)*100, (tshirt_cash/all_cash)*100, (dress_cash/all_cash)*100, (jacket_cash/all_cash)*100, (trainers_cash/all_cash)*100, (sleepers_cash/all_cash)*100, (sandals_cash/all_cash)*100, (lipstick_cash/all_cash)*100, (mascara_cash/all_cash)*100, (consealer_cash/all_cash)*100, (bag_cash/all_cash)*100, (backpack_cash/all_cash)*100, (suitcase_cash/all_cash)*100,]  # Процентные доли каждой категории\n",
    "\n",
    "    # Создание диаграммы\n",
    "    plt.pie(sizes, labels=labels, autopct='%1.1f%%')\n",
    "\n",
    "    # Добавление заголовка\n",
    "    plt.title('Диаграмма товаров по долям')\n",
    "\n",
    "    # Отображение диаграммы\n",
    "    plt.show()\n",
    "    \n"
   ]
  },
  {
   "cell_type": "markdown",
   "metadata": {},
   "source": [
    "# Вывод таблицы + с возможностью ввести криетрии"
   ]
  },
  {
   "cell_type": "code",
   "execution_count": 7,
   "metadata": {},
   "outputs": [
    {
     "name": "stdout",
     "output_type": "stream",
     "text": [
      "['Номер заказа', 'Дата заказа', 'Название товара', 'Категория товара', 'Количество продаж', 'Цена за единицу', 'Общая стоимость']\n",
      "['29751621', '2022-08-08', 'Ноутбук', 'Техника', '34', '55229', '1877786']\n",
      "['75810805', '2019-01-18', 'Сандали', 'Обувь', '390', '1386', '540540']\n",
      "['13291699', '2010-01-02', 'Помада', 'Косметика', '769', '581', '446789']\n",
      "['73729084', '2020-02-06', 'Чемодан', 'Аксессуары', '110', '6637', '730070']\n",
      "['86896885', '2013-03-10', 'Тапки', 'Обувь', '626', '566', '354316']\n",
      "['88325445', '2010-10-02', 'Платье', 'Одежда', '486', '4126', '2005236']\n",
      "['23040154', '2017-10-03', 'Сандали', 'Обувь', '390', '1386', '540540']\n",
      "['31400858', '2010-07-03', 'Рюкзак', 'Аксессуары', '213', '2476', '527388']\n",
      "['57623316', '2019-09-24', 'Консилер', 'Косметика', '624', '1009', '629616']\n",
      "['66330921', '2012-06-20', 'Тапки', 'Обувь', '626', '566', '354316']\n",
      "['90663105', '2015-03-10', 'Наушники', 'Техника', '5', '11064', '55320']\n",
      "['26455043', '2016-07-12', 'Чемодан', 'Аксессуары', '110', '6637', '730070']\n",
      "['9605797', '2022-10-15', 'Тапки', 'Обувь', '626', '566', '354316']\n",
      "['4088895', '2018-02-01', 'Футболка', 'Одежда', '814', '1452', '1181928']\n",
      "['22300559', '2014-06-23', 'Платье', 'Одежда', '486', '4126', '2005236']\n",
      "['63428317', '2013-11-08', 'Футболка', 'Одежда', '814', '1452', '1181928']\n",
      "['7445719', '2016-11-11', 'Наушники', 'Техника', '5', '11064', '55320']\n",
      "['1485625', '2011-07-27', 'Сумка', 'Аксессуары', '112', '5066', '567392']\n",
      "['57572203', '2023-04-12', 'Телефон', 'Техника', '47', '37318', '1753946']\n",
      "\n",
      "\n",
      "\n",
      "Заказы -  Наушники\n",
      "['90663105', '2015-03-10', 'Наушники', 'Техника', '5', '11064', '55320']\n",
      "['7445719', '2016-11-11', 'Наушники', 'Техника', '5', '11064', '55320']\n",
      "\n",
      "\n",
      "\n",
      "Заказ(ы) товар(ы) из категории -  Техника\n",
      "['29751621', '2022-08-08', 'Ноутбук', 'Техника', '34', '55229', '1877786']\n",
      "['90663105', '2015-03-10', 'Наушники', 'Техника', '5', '11064', '55320']\n",
      "['7445719', '2016-11-11', 'Наушники', 'Техника', '5', '11064', '55320']\n",
      "['57572203', '2023-04-12', 'Телефон', 'Техника', '47', '37318', '1753946']\n"
     ]
    }
   ],
   "source": [
    "# Вывод таблицы\n",
    "with open('Store.csv', 'r', newline='') as file:\n",
    "    reader = csv.reader(file, delimiter='|')\n",
    "    rows = list(reader)  # Сохраняем строки из файла в список\n",
    "    \n",
    "    # Вывод всей таблицы\n",
    "    for row in rows:\n",
    "        print(row)\n",
    "    print(\"\\n\")\n",
    "    \n",
    "    # Вывод таблицы с заказами конкрентного товара\n",
    "    input_things = str(input(\"Введите название товара, продажи по которому хотелось бы увидеть продажи: \\n\"))\n",
    "    print(\"\\nЗаказы - \", input_things)\n",
    "    for rew in rows:  # Используем сохраненный список строк\n",
    "        if input_things == rew[2]:\n",
    "            print(rew)\n",
    "    print(\"\\n\")\n",
    "     \n",
    "   # Вывод таблицы с заказами товаров конкрентной категороии\n",
    "    input_categories = str(input(\"Введите название категории, продажи по которому хотелось бы увидеть продажи: \\n\"))\n",
    "    print(\"\\nЗаказ(ы) товар(ы) из категории - \", input_categories)\n",
    "    for raw in rows:  # Используем сохраненный список строк\n",
    "        if input_categories == raw[3]:\n",
    "            print(raw)\n",
    "        "
   ]
  },
  {
   "cell_type": "markdown",
   "metadata": {},
   "source": [
    "# Вывод количества заказов каждого товара"
   ]
  },
  {
   "cell_type": "code",
   "execution_count": 8,
   "metadata": {},
   "outputs": [
    {
     "name": "stdout",
     "output_type": "stream",
     "text": [
      "Наушники  были проданы  5  раз \n",
      "Ноутбук  были проданы  34  раз \n",
      "Телефон  были проданы  47  раз \n",
      "Футболка  были проданы  814  раз \n",
      "Платье  были проданы  486  раз \n",
      "Куртка  были проданы  638  раз \n",
      "Кроссовки  были проданы  786  раз \n",
      "Тапки  были проданы  626  раз \n",
      "Сандали  были проданы  390  раз \n",
      "Помада  были проданы  769  раз \n",
      "Тушь  были проданы  349  раз \n",
      "Консилер  были проданы  624  раз \n",
      "Сумка  были проданы  112  раз \n",
      "Рюкзак  были проданы  213  раз \n",
      "Чемодан  были проданы  110  раз \n"
     ]
    }
   ],
   "source": [
    "# Вывод количества заказов каждого товара\n",
    "for sublist in products:\n",
    "    print(sublist[0], \" были проданы \", sublist[2], \" раз\", end=\" \")\n",
    "    print()"
   ]
  },
  {
   "cell_type": "markdown",
   "metadata": {},
   "source": [
    "# Сортировка по дате заказа"
   ]
  },
  {
   "cell_type": "code",
   "execution_count": 9,
   "metadata": {},
   "outputs": [
    {
     "name": "stdout",
     "output_type": "stream",
     "text": [
      "['13291699', '2010-01-02', 'Помада', 'Косметика', '769', '581', '446789']\n",
      "['31400858', '2010-07-03', 'Рюкзак', 'Аксессуары', '213', '2476', '527388']\n",
      "['88325445', '2010-10-02', 'Платье', 'Одежда', '486', '4126', '2005236']\n",
      "['1485625', '2011-07-27', 'Сумка', 'Аксессуары', '112', '5066', '567392']\n",
      "['66330921', '2012-06-20', 'Тапки', 'Обувь', '626', '566', '354316']\n",
      "['86896885', '2013-03-10', 'Тапки', 'Обувь', '626', '566', '354316']\n",
      "['63428317', '2013-11-08', 'Футболка', 'Одежда', '814', '1452', '1181928']\n",
      "['22300559', '2014-06-23', 'Платье', 'Одежда', '486', '4126', '2005236']\n",
      "['90663105', '2015-03-10', 'Наушники', 'Техника', '5', '11064', '55320']\n",
      "['26455043', '2016-07-12', 'Чемодан', 'Аксессуары', '110', '6637', '730070']\n",
      "['7445719', '2016-11-11', 'Наушники', 'Техника', '5', '11064', '55320']\n",
      "['23040154', '2017-10-03', 'Сандали', 'Обувь', '390', '1386', '540540']\n",
      "['4088895', '2018-02-01', 'Футболка', 'Одежда', '814', '1452', '1181928']\n",
      "['75810805', '2019-01-18', 'Сандали', 'Обувь', '390', '1386', '540540']\n",
      "['57623316', '2019-09-24', 'Консилер', 'Косметика', '624', '1009', '629616']\n",
      "['73729084', '2020-02-06', 'Чемодан', 'Аксессуары', '110', '6637', '730070']\n",
      "['29751621', '2022-08-08', 'Ноутбук', 'Техника', '34', '55229', '1877786']\n",
      "['9605797', '2022-10-15', 'Тапки', 'Обувь', '626', '566', '354316']\n",
      "['57572203', '2023-04-12', 'Телефон', 'Техника', '47', '37318', '1753946']\n"
     ]
    }
   ],
   "source": [
    "# Сортировка по дате заказа\n",
    "flaga = False\n",
    "while flaga == False:\n",
    "    poryadok = input(\"В каком порядке вы хотите отссортировать заказы? В порядке от давних к новым - 2, от новых к давним - 1\\n\")\n",
    "    if poryadok == \"1\" or poryadok == \"2\":\n",
    "        flaga = True\n",
    "        \n",
    "with open('Store.csv', 'r', newline='') as file:\n",
    "    reader = csv.reader(file, delimiter='|')\n",
    "    data = list(reader)  # Сохраняем данные из файла в список\n",
    "    if poryadok == \"2\":\n",
    "        sorted_data = sorted(data[1:], key=lambda x: x[1], reverse=False)  # Сортируем данные по второму столбцу (дате) в обратном порядке\n",
    "    elif poryadok == \"1\":\n",
    "        sorted_data = sorted(data[1:], key=lambda x: x[1], reverse=True)  # Сортируем данные по второму столбцу (дате) в обратном порядке\n",
    "    for row in sorted_data:\n",
    "        print(row)"
   ]
  },
  {
   "cell_type": "markdown",
   "metadata": {},
   "source": [
    "# Сортировка по названию товара"
   ]
  },
  {
   "cell_type": "code",
   "execution_count": 10,
   "metadata": {},
   "outputs": [
    {
     "name": "stdout",
     "output_type": "stream",
     "text": [
      "['57623316', '2019-09-24', 'Консилер', 'Косметика', '624', '1009', '629616']\n",
      "['90663105', '2015-03-10', 'Наушники', 'Техника', '5', '11064', '55320']\n",
      "['7445719', '2016-11-11', 'Наушники', 'Техника', '5', '11064', '55320']\n",
      "['29751621', '2022-08-08', 'Ноутбук', 'Техника', '34', '55229', '1877786']\n",
      "['88325445', '2010-10-02', 'Платье', 'Одежда', '486', '4126', '2005236']\n",
      "['22300559', '2014-06-23', 'Платье', 'Одежда', '486', '4126', '2005236']\n",
      "['13291699', '2010-01-02', 'Помада', 'Косметика', '769', '581', '446789']\n",
      "['31400858', '2010-07-03', 'Рюкзак', 'Аксессуары', '213', '2476', '527388']\n",
      "['75810805', '2019-01-18', 'Сандали', 'Обувь', '390', '1386', '540540']\n",
      "['23040154', '2017-10-03', 'Сандали', 'Обувь', '390', '1386', '540540']\n",
      "['1485625', '2011-07-27', 'Сумка', 'Аксессуары', '112', '5066', '567392']\n",
      "['86896885', '2013-03-10', 'Тапки', 'Обувь', '626', '566', '354316']\n",
      "['66330921', '2012-06-20', 'Тапки', 'Обувь', '626', '566', '354316']\n",
      "['9605797', '2022-10-15', 'Тапки', 'Обувь', '626', '566', '354316']\n",
      "['57572203', '2023-04-12', 'Телефон', 'Техника', '47', '37318', '1753946']\n",
      "['4088895', '2018-02-01', 'Футболка', 'Одежда', '814', '1452', '1181928']\n",
      "['63428317', '2013-11-08', 'Футболка', 'Одежда', '814', '1452', '1181928']\n",
      "['73729084', '2020-02-06', 'Чемодан', 'Аксессуары', '110', '6637', '730070']\n",
      "['26455043', '2016-07-12', 'Чемодан', 'Аксессуары', '110', '6637', '730070']\n"
     ]
    }
   ],
   "source": [
    "# Сортировка по названию товара\n",
    "flage = False\n",
    "while flage == False:\n",
    "    posled = input(\"В каком порядке вы хотите отссортировать заказы? В алфавитном порядке названия товара от А до Я - 1, В алфавитном порядке названия товара от Я до А - 2\\n\")\n",
    "    if posled == \"1\" or posled == \"2\":\n",
    "        flage = True\n",
    "        \n",
    "with open('Store.csv', 'r', newline='') as file:\n",
    "    reader = csv.reader(file, delimiter='|')\n",
    "    data = list(reader)  # Сохраняем данные из файла в список\n",
    "    if posled == \"1\":\n",
    "        sorted_data = sorted(data[1:], key=lambda x: x[2])  # Сортируем данные по третьему столбцу (названию товара)\n",
    "    elif posled == \"2\":\n",
    "        sorted_data = sorted(data[1:], key=lambda x: x[2], reverse=True)  # Сортируем данные по третьему столбцу (названию товара)\n",
    "    for row in sorted_data:\n",
    "        print(row)"
   ]
  },
  {
   "cell_type": "markdown",
   "metadata": {},
   "source": [
    "# Сортировка по категории товара"
   ]
  },
  {
   "cell_type": "code",
   "execution_count": 11,
   "metadata": {},
   "outputs": [
    {
     "name": "stdout",
     "output_type": "stream",
     "text": [
      "['73729084', '2020-02-06', 'Чемодан', 'Аксессуары', '110', '6637', '730070']\n",
      "['31400858', '2010-07-03', 'Рюкзак', 'Аксессуары', '213', '2476', '527388']\n",
      "['26455043', '2016-07-12', 'Чемодан', 'Аксессуары', '110', '6637', '730070']\n",
      "['1485625', '2011-07-27', 'Сумка', 'Аксессуары', '112', '5066', '567392']\n",
      "['13291699', '2010-01-02', 'Помада', 'Косметика', '769', '581', '446789']\n",
      "['57623316', '2019-09-24', 'Консилер', 'Косметика', '624', '1009', '629616']\n",
      "['75810805', '2019-01-18', 'Сандали', 'Обувь', '390', '1386', '540540']\n",
      "['86896885', '2013-03-10', 'Тапки', 'Обувь', '626', '566', '354316']\n",
      "['23040154', '2017-10-03', 'Сандали', 'Обувь', '390', '1386', '540540']\n",
      "['66330921', '2012-06-20', 'Тапки', 'Обувь', '626', '566', '354316']\n",
      "['9605797', '2022-10-15', 'Тапки', 'Обувь', '626', '566', '354316']\n",
      "['88325445', '2010-10-02', 'Платье', 'Одежда', '486', '4126', '2005236']\n",
      "['4088895', '2018-02-01', 'Футболка', 'Одежда', '814', '1452', '1181928']\n",
      "['22300559', '2014-06-23', 'Платье', 'Одежда', '486', '4126', '2005236']\n",
      "['63428317', '2013-11-08', 'Футболка', 'Одежда', '814', '1452', '1181928']\n",
      "['29751621', '2022-08-08', 'Ноутбук', 'Техника', '34', '55229', '1877786']\n",
      "['90663105', '2015-03-10', 'Наушники', 'Техника', '5', '11064', '55320']\n",
      "['7445719', '2016-11-11', 'Наушники', 'Техника', '5', '11064', '55320']\n",
      "['57572203', '2023-04-12', 'Телефон', 'Техника', '47', '37318', '1753946']\n"
     ]
    }
   ],
   "source": [
    "# Сортировка по категории товара\n",
    "flagu = False\n",
    "while flagu == False:\n",
    "    various = input(\"В каком порядке вы хотите отссортировать заказы? В алфавитном порядке названия категории от А до Я - 1, В алфавитном порядке названия категории от Я до А - 2\\n\")\n",
    "    if various == \"1\" or various == \"2\":\n",
    "        flagu = True\n",
    "        \n",
    "with open('Store.csv', 'r', newline='') as file:\n",
    "    reader = csv.reader(file, delimiter='|')\n",
    "    data = list(reader)  # Сохраняем данные из файла в список\n",
    "    if various == \"1\":\n",
    "        sorted_data = sorted(data[1:], key=lambda x: x[3], reverse=False)  # Обратная сортировка данных по четвертому столбцу (названию категории)\n",
    "    elif various == \"2\":\n",
    "        sorted_data = sorted(data[1:], key=lambda x: x[3], reverse=True)  # Обратная сортировка данных по четвертому столбцу (названию категории)\n",
    "\n",
    "    for row in sorted_data:\n",
    "        print(row)"
   ]
  },
  {
   "cell_type": "markdown",
   "metadata": {},
   "source": [
    "# Сортировка по номеру заказа"
   ]
  },
  {
   "cell_type": "code",
   "execution_count": 22,
   "metadata": {},
   "outputs": [
    {
     "name": "stdout",
     "output_type": "stream",
     "text": [
      "2\n",
      "['90663105', '2015-03-10', 'Наушники', 'Техника', '5', '11064', '55320']\n",
      "['88325445', '2010-10-02', 'Платье', 'Одежда', '486', '4126', '2005236']\n",
      "['86896885', '2013-03-10', 'Тапки', 'Обувь', '626', '566', '354316']\n",
      "['75810805', '2019-01-18', 'Сандали', 'Обувь', '390', '1386', '540540']\n",
      "['73729084', '2020-02-06', 'Чемодан', 'Аксессуары', '110', '6637', '730070']\n",
      "['66330921', '2012-06-20', 'Тапки', 'Обувь', '626', '566', '354316']\n",
      "['63428317', '2013-11-08', 'Футболка', 'Одежда', '814', '1452', '1181928']\n",
      "['57623316', '2019-09-24', 'Консилер', 'Косметика', '624', '1009', '629616']\n",
      "['57572203', '2023-04-12', 'Телефон', 'Техника', '47', '37318', '1753946']\n",
      "['31400858', '2010-07-03', 'Рюкзак', 'Аксессуары', '213', '2476', '527388']\n",
      "['29751621', '2022-08-08', 'Ноутбук', 'Техника', '34', '55229', '1877786']\n",
      "['26455043', '2016-07-12', 'Чемодан', 'Аксессуары', '110', '6637', '730070']\n",
      "['23040154', '2017-10-03', 'Сандали', 'Обувь', '390', '1386', '540540']\n",
      "['22300559', '2014-06-23', 'Платье', 'Одежда', '486', '4126', '2005236']\n",
      "['13291699', '2010-01-02', 'Помада', 'Косметика', '769', '581', '446789']\n",
      "['9605797', '2022-10-15', 'Тапки', 'Обувь', '626', '566', '354316']\n",
      "['7445719', '2016-11-11', 'Наушники', 'Техника', '5', '11064', '55320']\n",
      "['4088895', '2018-02-01', 'Футболка', 'Одежда', '814', '1452', '1181928']\n",
      "['1485625', '2011-07-27', 'Сумка', 'Аксессуары', '112', '5066', '567392']\n"
     ]
    }
   ],
   "source": [
    "# Сортировка по номеру заказа\n",
    "flager = False\n",
    "while flager == False:\n",
    "    number = input(\"В каком порядке вы хотите отссортировать номера заказов? В порядке возрастания - 1, В порядке убывания - 2\\n\")\n",
    "    if number == \"1\" or number == \"2\":\n",
    "        flager = True\n",
    "        \n",
    "with open('Store.csv', 'r', newline='') as file:\n",
    "    reader = csv.reader(file, delimiter='|')\n",
    "    next(reader)\n",
    "    data = list(reader)  # Сохраняем данные из файла в список \n",
    "    if number == \"1\":\n",
    "        for i in range(1, len(data)):\n",
    "            key = data[i]\n",
    "            j = i - 1\n",
    "            while j >= 0 and int(data[j][0]) > int(key[0]):\n",
    "                data[j + 1] = data[j]\n",
    "                j -= 1\n",
    "            data[j + 1] = key\n",
    "    elif number == \"2\":\n",
    "        for i in range(1, len(data)):\n",
    "            key = data[i]\n",
    "            j = i - 1\n",
    "            while j >= 0 and int(data[j][0]) < int(key[0]):\n",
    "                data[j + 1] = data[j]\n",
    "                j -= 1\n",
    "            data[j + 1] = key\n",
    "\n",
    "    for array in data:\n",
    "        print(array)\n",
    "        "
   ]
  }
 ],
 "metadata": {
  "kernelspec": {
   "display_name": "Python 3",
   "language": "python",
   "name": "python3"
  },
  "language_info": {
   "codemirror_mode": {
    "name": "ipython",
    "version": 3
   },
   "file_extension": ".py",
   "mimetype": "text/x-python",
   "name": "python",
   "nbconvert_exporter": "python",
   "pygments_lexer": "ipython3",
   "version": "3.9.6"
  }
 },
 "nbformat": 4,
 "nbformat_minor": 2
}
